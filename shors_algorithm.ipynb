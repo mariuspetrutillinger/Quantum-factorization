{
  "nbformat": 4,
  "nbformat_minor": 0,
  "metadata": {
    "colab": {
      "provenance": []
    },
    "kernelspec": {
      "name": "python3",
      "display_name": "Python 3"
    },
    "language_info": {
      "name": "python"
    }
  },
  "cells": [
    {
      "cell_type": "code",
      "source": [
        "!pip install qiskit\n",
        "!pip install qiskit_aer\n",
        "!pip install qiskit_ibm_runtime\n",
        "!pip install pylatexenc"
      ],
      "metadata": {
        "id": "qeWuADXqvJTh"
      },
      "execution_count": null,
      "outputs": []
    },
    {
      "cell_type": "code",
      "execution_count": null,
      "metadata": {
        "id": "UixGKfPEu0Xw"
      },
      "outputs": [],
      "source": [
        "# configure backend\n",
        "import qiskit\n",
        "import pylatexenc\n",
        "from qiskit_ibm_runtime import QiskitRuntimeService\n",
        "\n",
        "service = QiskitRuntimeService(channel = \"ibm_quantum\", #ibm cloud\n",
        "                               token = \"7a31b765e519ab16da85b8d03351b980388901e70cb1170057c90c1c7fda8f279e25e7e8a253143642367af9e09d071c54c69eff8a411cb229b7ee5c5c7d7cdf\" )\n",
        "QiskitRuntimeService.save_account(channel = \"ibm_quantum\", #ibm cloud\n",
        "                                  token = \"7a31b765e519ab16da85b8d03351b980388901e70cb1170057c90c1c7fda8f279e25e7e8a253143642367af9e09d071c54c69eff8a411cb229b7ee5c5c7d7cdf\",\n",
        "                                  overwrite=True)\n",
        "backend = service.backend(name= \"ibm_osaka\")"
      ]
    },
    {
      "cell_type": "markdown",
      "source": [
        "\n",
        "Un qubit este o superpozitie de 0 si 1\n",
        "\n",
        "\n",
        "Doi qubits pot sa fie simulan o superpozitie 00, 01, 10 si 11\n",
        "\n",
        "Daca incercam acum sa efectuam un calcul cu acesti 2 qubits vom optine o superpozitie cu rezultatul calculului pentru toate cele 4 stari\n",
        "\n",
        "Problema este ca atunci cand incercam sa masuram aceasta superpozitie nu obtinem decat o stare aleatoare din cele 4\n",
        "\n",
        "\n",
        "\n",
        "### Pasul 1\n",
        "\n",
        "fie N un numar natural, produs de 2 factori primi\n",
        "\n",
        "fie g un numar prim fata de N\n",
        "\n",
        "(A) g prim fata de N | (E) un numar e a.i. g^e = k * N + 1\n",
        "\n",
        "### Pasul 2\n",
        "g^e - 1 = k * N\n",
        "\n",
        "(g^(e/2) - 1) * (g^(e/2) + 1) = k * N\n",
        "\n",
        "\n",
        "\n",
        "### Pasul 3\n",
        "Acum avem alte 2 valori care cel mai probabil au factori in comun cu N\n",
        "\n",
        "\n",
        "\n",
        "### Pasul 4\n",
        "Folosim algoritmul lui Euclid pentru a gasi cmmdc intre N si una dintre cele 2 valori\n",
        "\n",
        "Folosim un calculator quantic pentru a face pasul 2 mai rapid\n"
      ],
      "metadata": {
        "id": "Sic5eKRuWtsV"
      }
    },
    {
      "cell_type": "code",
      "source": [
        "# Rezolvare standard, pe un calculator clasic\n",
        "\n",
        "def gcd(a, b):\n",
        "    while b != 0:\n",
        "        a, b = b, a % b\n",
        "    return a\n",
        "\n",
        "\n",
        "\n",
        "N = 77\n",
        "g = 8\n",
        "aux = g\n",
        "\n",
        "\n",
        "\n",
        "e = 1\n",
        "while aux % N != 1:\n",
        "  aux = aux * g\n",
        "  e += 1\n",
        "\n",
        "\n",
        "\n",
        "if e % 2 == 1:\n",
        "  print(\"Nu se poate, trebuie sa alegem alt g\")\n",
        "else:\n",
        "  factor = gcd(g**(e/2) - 1, N)\n",
        "\n",
        "print(factor, N/factor)"
      ],
      "metadata": {
        "colab": {
          "base_uri": "https://localhost:8080/"
        },
        "id": "wxRScEfbW3w2",
        "outputId": "aa4c946c-3253-4c92-86ba-d994ee2a0da9"
      },
      "execution_count": 3,
      "outputs": [
        {
          "output_type": "stream",
          "name": "stdout",
          "text": [
            "7.0 11.0\n"
          ]
        }
      ]
    },
    {
      "cell_type": "code",
      "source": [
        "from qiskit_aer import Aer\n",
        "from qiskit_aer.primitives import Estimator\n",
        "from qiskit import QuantumCircuit\n",
        "from qiskit.visualization import plot_histogram\n",
        "from qiskit import transpile\n",
        "import numpy as np\n",
        "from fractions import Fraction\n",
        "\n",
        "# gate pentru multiplicare in modulo 15\n",
        "def c_amod15(a, p):\n",
        "    \"\"\"Controlled multiplication by a mod 15\"\"\"\n",
        "    if gcd(a, N) != 1:\n",
        "      print(f\"{a} nu este prin cu 15, am gasit deja factorii lui 15\")\n",
        "      return;\n",
        "\n",
        "    # acest circuit pe 4 biti efectueaza *a de p ori\n",
        "    U = QuantumCircuit(4)\n",
        "    for _iteration in range(p):\n",
        "        if a in [2,13]:\n",
        "            U.swap(2,3)\n",
        "            U.swap(1,2)\n",
        "            U.swap(0,1)\n",
        "        if a in [7,8]:\n",
        "            U.swap(0,1)\n",
        "            U.swap(1,2)\n",
        "            U.swap(2,3)\n",
        "        if a in [4, 11]:\n",
        "            U.swap(1,3)\n",
        "            U.swap(0,2)\n",
        "        if a in [7,11,13]:\n",
        "            for q in range(4):\n",
        "                U.x(q)\n",
        "        # exemplu\n",
        "\n",
        "\n",
        "    U = U.to_gate()\n",
        "    U.name = f\"{a}^{p} mod 15\"\n",
        "    c_U = U.control()\n",
        "    return c_U\n",
        "\n",
        "\n",
        "def qft(n):\n",
        "  qc = QuantumCircuit(n)\n",
        "  for qubit in range(n//2):\n",
        "    qc.swap(qubit, n-qubit-1)\n",
        "  for j in range(n):\n",
        "    for m in range(j):\n",
        "      qc.cp(-np.pi/float(2**(j-m)),m,j)\n",
        "    qc.h(j)\n",
        "  qc.name = \"QTF\"\n",
        "  return qc\n",
        "\n"
      ],
      "metadata": {
        "id": "7T3X6iFwXHHD"
      },
      "execution_count": 4,
      "outputs": []
    },
    {
      "cell_type": "code",
      "source": [
        "aer_sim = Aer.get_backend('aer_simulator')\n",
        "\n",
        "N_COUNT = 10\n",
        "N = 15\n",
        "g = 8\n",
        "\n",
        "qc = QuantumCircuit(4+N_COUNT, N_COUNT)\n",
        "for q in range(N_COUNT):\n",
        "    qc.h(q)     # Initialize counting qubits in state |+>\n",
        "\n",
        "qc.x(N_COUNT) # And auxiliary register in state |1>\n",
        "for q in range(N_COUNT): # Do controlled-U operations\n",
        "    qc.append(c_amod15(g, 2**q),\n",
        "              [q] + [i+N_COUNT for i in range(4)])\n",
        "qc.append(qft(N_COUNT), range(N_COUNT)) # Do inverse-QFT\n",
        "qc.measure(range(N_COUNT), range(N_COUNT))\n",
        "# Simulate Results\n",
        "aer_sim = Aer.get_backend('aer_simulator')\n",
        "# `memory=True` tells the backend to save each measurement in a list\n",
        "job = aer_sim.run(transpile(qc, aer_sim), shots=1, memory=True)\n",
        "readings = job.result().get_memory()\n",
        "\n",
        "print(\"Register Reading: \" + readings[0])\n",
        "phase = int(readings[0],2)/(2**N_COUNT)\n",
        "print(f\"Corresponding Phase: {phase}\")"
      ],
      "metadata": {
        "id": "oKgxGFk_ejI1",
        "colab": {
          "base_uri": "https://localhost:8080/"
        },
        "outputId": "5649d719-20ae-4e4f-d6ed-720f739fa160"
      },
      "execution_count": 17,
      "outputs": [
        {
          "output_type": "stream",
          "name": "stdout",
          "text": [
            "Register Reading: 0100000000\n",
            "Corresponding Phase: 0.25\n"
          ]
        }
      ]
    },
    {
      "cell_type": "code",
      "source": [
        "r = Fraction(phase).limit_denominator(15).denominator\n",
        "\n",
        "\n",
        "guesses = [gcd(g**(r//2)-1, N), gcd(g**(r//2)+1, N)]\n",
        "print(guesses)"
      ],
      "metadata": {
        "colab": {
          "base_uri": "https://localhost:8080/"
        },
        "id": "1UfOxDH_faw8",
        "outputId": "476a932b-72e8-4b52-c5ee-bd8ff895ed9c"
      },
      "execution_count": 18,
      "outputs": [
        {
          "output_type": "stream",
          "name": "stdout",
          "text": [
            "[3, 5]\n"
          ]
        }
      ]
    }
  ]
}